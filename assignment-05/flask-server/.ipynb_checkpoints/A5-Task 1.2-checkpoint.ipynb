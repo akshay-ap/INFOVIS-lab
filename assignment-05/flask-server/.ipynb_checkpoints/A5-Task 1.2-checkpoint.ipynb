{
 "cells": [
  {
   "cell_type": "code",
   "execution_count": 11,
   "id": "9f91a286",
   "metadata": {},
   "outputs": [],
   "source": [
    "import pandas as pd \n",
    "from sklearn.preprocessing import LabelEncoder, StandardScaler\n",
    "from sklearn.decomposition import PCA\n",
    "from sklearn.model_selection import train_test_split\n",
    "from sklearn.metrics.pairwise import cosine_similarity\n",
    "from sklearn.feature_extraction.text import TfidfVectorizer"
   ]
  },
  {
   "cell_type": "code",
   "execution_count": 12,
   "id": "2f8a8792",
   "metadata": {},
   "outputs": [
    {
     "data": {
      "text/html": [
       "<div>\n",
       "<style scoped>\n",
       "    .dataframe tbody tr th:only-of-type {\n",
       "        vertical-align: middle;\n",
       "    }\n",
       "\n",
       "    .dataframe tbody tr th {\n",
       "        vertical-align: top;\n",
       "    }\n",
       "\n",
       "    .dataframe thead th {\n",
       "        text-align: right;\n",
       "    }\n",
       "</style>\n",
       "<table border=\"1\" class=\"dataframe\">\n",
       "  <thead>\n",
       "    <tr style=\"text-align: right;\">\n",
       "      <th></th>\n",
       "      <th>Conference</th>\n",
       "      <th>Year</th>\n",
       "      <th>Title</th>\n",
       "      <th>DOI</th>\n",
       "      <th>Link</th>\n",
       "      <th>FirstPage</th>\n",
       "      <th>LastPage</th>\n",
       "      <th>PaperType</th>\n",
       "      <th>Abstract</th>\n",
       "      <th>AuthorNames-Deduped</th>\n",
       "      <th>AuthorNames</th>\n",
       "      <th>AuthorAffiliation</th>\n",
       "      <th>InternalReferences</th>\n",
       "      <th>AuthorKeywords</th>\n",
       "      <th>AminerCitationCount_04-2020</th>\n",
       "      <th>XploreCitationCount - 2021-02</th>\n",
       "      <th>PubsCited</th>\n",
       "      <th>Award</th>\n",
       "    </tr>\n",
       "  </thead>\n",
       "  <tbody>\n",
       "    <tr>\n",
       "      <th>0</th>\n",
       "      <td>InfoVis</td>\n",
       "      <td>2011</td>\n",
       "      <td>D³ Data-Driven Documents</td>\n",
       "      <td>10.1109/TVCG.2011.185</td>\n",
       "      <td>http://dx.doi.org/10.1109/TVCG.2011.185</td>\n",
       "      <td>2301</td>\n",
       "      <td>2309</td>\n",
       "      <td>J</td>\n",
       "      <td>Data-Driven Documents (D3) is a novel represen...</td>\n",
       "      <td>Michael Bostock;Vadim Ogievetsky;Jeffrey Heer</td>\n",
       "      <td>Michael Bostock;Vadim Ogievetsky;Jeffrey Heer</td>\n",
       "      <td>NaN</td>\n",
       "      <td>10.1109/INFVIS.2000.885091;10.1109/INFVIS.2000...</td>\n",
       "      <td>Information visualization, user interfaces, to...</td>\n",
       "      <td>1537.0</td>\n",
       "      <td>1197.0</td>\n",
       "      <td>41.0</td>\n",
       "      <td>NaN</td>\n",
       "    </tr>\n",
       "    <tr>\n",
       "      <th>1</th>\n",
       "      <td>Vis</td>\n",
       "      <td>1991</td>\n",
       "      <td>Tree-maps: a space-filling approach to the vis...</td>\n",
       "      <td>10.1109/VISUAL.1991.175815</td>\n",
       "      <td>http://dx.doi.org/10.1109/VISUAL.1991.175815</td>\n",
       "      <td>284</td>\n",
       "      <td>291</td>\n",
       "      <td>C</td>\n",
       "      <td>A method for visualizing hierarchically struct...</td>\n",
       "      <td>Brian Johnson;Ben Shneiderman</td>\n",
       "      <td>B. Johnson;B. Shneiderman</td>\n",
       "      <td>Dept. of Comput. Sci., Maryland Univ., College...</td>\n",
       "      <td>NaN</td>\n",
       "      <td>NaN</td>\n",
       "      <td>1132.0</td>\n",
       "      <td>423.0</td>\n",
       "      <td>23.0</td>\n",
       "      <td>NaN</td>\n",
       "    </tr>\n",
       "  </tbody>\n",
       "</table>\n",
       "</div>"
      ],
      "text/plain": [
       "  Conference  Year                                              Title  \\\n",
       "0    InfoVis  2011                           D³ Data-Driven Documents   \n",
       "1        Vis  1991  Tree-maps: a space-filling approach to the vis...   \n",
       "\n",
       "                          DOI                                          Link  \\\n",
       "0       10.1109/TVCG.2011.185       http://dx.doi.org/10.1109/TVCG.2011.185   \n",
       "1  10.1109/VISUAL.1991.175815  http://dx.doi.org/10.1109/VISUAL.1991.175815   \n",
       "\n",
       "  FirstPage LastPage PaperType  \\\n",
       "0      2301     2309         J   \n",
       "1       284      291         C   \n",
       "\n",
       "                                            Abstract  \\\n",
       "0  Data-Driven Documents (D3) is a novel represen...   \n",
       "1  A method for visualizing hierarchically struct...   \n",
       "\n",
       "                             AuthorNames-Deduped  \\\n",
       "0  Michael Bostock;Vadim Ogievetsky;Jeffrey Heer   \n",
       "1                  Brian Johnson;Ben Shneiderman   \n",
       "\n",
       "                                     AuthorNames  \\\n",
       "0  Michael Bostock;Vadim Ogievetsky;Jeffrey Heer   \n",
       "1                      B. Johnson;B. Shneiderman   \n",
       "\n",
       "                                   AuthorAffiliation  \\\n",
       "0                                                NaN   \n",
       "1  Dept. of Comput. Sci., Maryland Univ., College...   \n",
       "\n",
       "                                  InternalReferences  \\\n",
       "0  10.1109/INFVIS.2000.885091;10.1109/INFVIS.2000...   \n",
       "1                                                NaN   \n",
       "\n",
       "                                      AuthorKeywords  \\\n",
       "0  Information visualization, user interfaces, to...   \n",
       "1                                                NaN   \n",
       "\n",
       "   AminerCitationCount_04-2020  XploreCitationCount - 2021-02  PubsCited Award  \n",
       "0                       1537.0                         1197.0       41.0   NaN  \n",
       "1                       1132.0                          423.0       23.0   NaN  "
      ]
     },
     "execution_count": 12,
     "metadata": {},
     "output_type": "execute_result"
    }
   ],
   "source": [
    "data = pd.read_csv(\"datamain.csv\") \n",
    "data.head(2)\n"
   ]
  },
  {
   "cell_type": "code",
   "execution_count": 29,
   "id": "2d90af07",
   "metadata": {},
   "outputs": [
    {
     "data": {
      "text/plain": [
       "array([[1.        , 0.07283618, 0.05061955, ..., 0.05838254, 0.08018318,\n",
       "        0.07748035],\n",
       "       [0.07283618, 1.        , 0.16678345, ..., 0.09814661, 0.08823967,\n",
       "        0.1539241 ],\n",
       "       [0.05061955, 0.16678345, 1.        , ..., 0.08749323, 0.10137398,\n",
       "        0.07984698],\n",
       "       ...,\n",
       "       [0.05838254, 0.09814661, 0.08749323, ..., 1.        , 0.0978725 ,\n",
       "        0.09732566],\n",
       "       [0.08018318, 0.08823967, 0.10137398, ..., 0.0978725 , 1.        ,\n",
       "        0.11418049],\n",
       "       [0.07748035, 0.1539241 , 0.07984698, ..., 0.09732566, 0.11418049,\n",
       "        1.        ]])"
      ]
     },
     "execution_count": 29,
     "metadata": {},
     "output_type": "execute_result"
    }
   ],
   "source": [
    "# Similarity(data[\"Abstract\"], data[\"AuthorKeywords\"])\n",
    "\n",
    "v = TfidfVectorizer()\n",
    "x1 = v.fit_transform(data['Abstract'].values.astype('U'))\n",
    "pairwise_similarity1 = x1 * x1.T \n",
    "pairwise_similarity1.toarray()                                                                                                                                                                                                                                       "
   ]
  },
  {
   "cell_type": "code",
   "execution_count": 15,
   "id": "681add48",
   "metadata": {},
   "outputs": [
    {
     "name": "stdout",
     "output_type": "stream",
     "text": [
      "Index(['000', '001', '01', '04', '043', '05', '050', '07', '070', '08',\n",
      "       ...\n",
      "       'zoned', 'zones', 'zoom', 'zoomable', 'zoomed', 'zooming', 'zooms',\n",
      "       'ztms', 'zucchini', 'zwart'],\n",
      "      dtype='object', length=15362)\n"
     ]
    }
   ],
   "source": [
    "df1 = pd.DataFrame(x1.toarray(), columns=v.get_feature_names_out())\n",
    "print(df1.columns)"
   ]
  },
  {
   "cell_type": "code",
   "execution_count": 9,
   "id": "f156c2c5",
   "metadata": {},
   "outputs": [
    {
     "data": {
      "text/plain": [
       "<3394x3394 sparse matrix of type '<class 'numpy.float64'>'\n",
       "\twith 3519944 stored elements in Compressed Sparse Row format>"
      ]
     },
     "execution_count": 9,
     "metadata": {},
     "output_type": "execute_result"
    }
   ],
   "source": [
    "x2 = v.fit_transform(data['AuthorKeywords'].values.astype('U'))\n",
    "pairwise_similarity2 = x2 * x2.T \n",
    "pairwise_similarity2   "
   ]
  },
  {
   "cell_type": "code",
   "execution_count": 18,
   "id": "5cf456b9",
   "metadata": {},
   "outputs": [
    {
     "data": {
      "text/plain": [
       "array([[1.        , 0.07283618, 0.05061955, ..., 0.05838254, 0.08018318,\n",
       "        0.07748035],\n",
       "       [0.07283618, 1.        , 0.16678345, ..., 0.09814661, 0.08823967,\n",
       "        0.1539241 ],\n",
       "       [0.05061955, 0.16678345, 1.        , ..., 0.08749323, 0.10137398,\n",
       "        0.07984698],\n",
       "       ...,\n",
       "       [0.05838254, 0.09814661, 0.08749323, ..., 1.        , 0.0978725 ,\n",
       "        0.09732566],\n",
       "       [0.08018318, 0.08823967, 0.10137398, ..., 0.0978725 , 1.        ,\n",
       "        0.11418049],\n",
       "       [0.07748035, 0.1539241 , 0.07984698, ..., 0.09732566, 0.11418049,\n",
       "        1.        ]])"
      ]
     },
     "execution_count": 18,
     "metadata": {},
     "output_type": "execute_result"
    }
   ],
   "source": [
    "# Cosine Similarity of Abstract tags column\n",
    "cosine_similarity(x1)"
   ]
  },
  {
   "cell_type": "code",
   "execution_count": 19,
   "id": "58eda078",
   "metadata": {},
   "outputs": [
    {
     "data": {
      "text/plain": [
       "array([[1.        , 0.        , 0.        , ..., 0.        , 0.        ,\n",
       "        0.02858451],\n",
       "       [0.        , 1.        , 1.        , ..., 0.        , 0.        ,\n",
       "        0.        ],\n",
       "       [0.        , 1.        , 1.        , ..., 0.        , 0.        ,\n",
       "        0.        ],\n",
       "       ...,\n",
       "       [0.        , 0.        , 0.        , ..., 1.        , 0.17188097,\n",
       "        0.        ],\n",
       "       [0.        , 0.        , 0.        , ..., 0.17188097, 1.        ,\n",
       "        0.        ],\n",
       "       [0.02858451, 0.        , 0.        , ..., 0.        , 0.        ,\n",
       "        1.        ]])"
      ]
     },
     "execution_count": 19,
     "metadata": {},
     "output_type": "execute_result"
    }
   ],
   "source": [
    "# Cosine Similarity of AuthorKeywords tags column\n",
    "cosine_similarity(x2)"
   ]
  }
 ],
 "metadata": {
  "kernelspec": {
   "display_name": "Python 3 (ipykernel)",
   "language": "python",
   "name": "python3"
  },
  "language_info": {
   "codemirror_mode": {
    "name": "ipython",
    "version": 3
   },
   "file_extension": ".py",
   "mimetype": "text/x-python",
   "name": "python",
   "nbconvert_exporter": "python",
   "pygments_lexer": "ipython3",
   "version": "3.8.10"
  }
 },
 "nbformat": 4,
 "nbformat_minor": 5
}

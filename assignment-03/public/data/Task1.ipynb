{
 "cells": [
  {
   "cell_type": "markdown",
   "id": "8bdebfe7",
   "metadata": {},
   "source": [
    "# Assignment 3 - Task 1\n",
    "\n",
    "You may use this notebook to explore your data using pandas. The next cell imports the pandas package and the rest is up to you."
   ]
  },
  {
   "cell_type": "code",
   "execution_count": null,
   "id": "a55d3b1a",
   "metadata": {},
   "outputs": [],
   "source": [
    "import pandas as pd\n",
    "f'working with pandas version {pd.__version__}'"
   ]
  },
  {
   "cell_type": "code",
   "execution_count": null,
   "id": "a461dcec",
   "metadata": {
    "scrolled": false
   },
   "outputs": [],
   "source": [
    "# TODO: load the data using pandas\n",
    "# df = ..."
   ]
  },
  {
   "cell_type": "markdown",
   "id": "b5c78982",
   "metadata": {},
   "source": [
    "# Scripts\n",
    "\n",
    "You can also call the scripts we provided from here if you want to explore the results in a jupyter notebook, examples are given below."
   ]
  },
  {
   "cell_type": "code",
   "execution_count": null,
   "id": "431336f1",
   "metadata": {
    "scrolled": false
   },
   "outputs": [],
   "source": [
    "from make_graph_from_aggregate import make_graph, export_graph\n",
    "\n",
    "# returns nodes and edges as data frames\n",
    "ndf, edf = make_graph(df, 'genres', 10)\n",
    "\n",
    "# you can also save the results to a file\n",
    "export_graph('graph-path.json', ndf, edf)\n",
    "\n",
    "ndf"
   ]
  },
  {
   "cell_type": "code",
   "execution_count": null,
   "id": "e0659480",
   "metadata": {
    "scrolled": false
   },
   "outputs": [],
   "source": [
    "edf"
   ]
  },
  {
   "cell_type": "code",
   "execution_count": null,
   "id": "fa6b5b73",
   "metadata": {
    "scrolled": false
   },
   "outputs": [],
   "source": [
    "from anytree import RenderTree, AsciiStyle\n",
    "from make_hierarchy import make_hierarchy, export_hierarchy\n",
    "\n",
    "# returns root node as anytree node\n",
    "root = make_hierarchy(df, 'time')\n",
    "\n",
    "# you can also save the results to a file\n",
    "export_hierarchy('tree-path.json', root)\n",
    "\n",
    "print(RenderTree(root, style=AsciiStyle()).by_attr())"
   ]
  }
 ],
 "metadata": {
  "kernelspec": {
   "display_name": "Python 3 (ipykernel)",
   "language": "python",
   "name": "python3"
  },
  "language_info": {
   "codemirror_mode": {
    "name": "ipython",
    "version": 3
   },
   "file_extension": ".py",
   "mimetype": "text/x-python",
   "name": "python",
   "nbconvert_exporter": "python",
   "pygments_lexer": "ipython3",
   "version": "3.9.7"
  }
 },
 "nbformat": 4,
 "nbformat_minor": 5
}

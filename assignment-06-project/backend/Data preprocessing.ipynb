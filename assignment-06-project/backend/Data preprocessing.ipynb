{
 "cells": [
  {
   "cell_type": "markdown",
   "id": "1640570f",
   "metadata": {},
   "source": [
    "### Fetch the zip file"
   ]
  },
  {
   "cell_type": "code",
   "execution_count": 2,
   "id": "07f60e18",
   "metadata": {},
   "outputs": [
    {
     "name": "stdout",
     "output_type": "stream",
     "text": [
      "--2022-01-21 06:08:48--  https://databank.worldbank.org/data/download/WDI_csv.zip\n",
      "Resolving databank.worldbank.org (databank.worldbank.org)... 192.86.98.102\n",
      "Connecting to databank.worldbank.org (databank.worldbank.org)|192.86.98.102|:443... connected.\n",
      "HTTP request sent, awaiting response... 200 OK\n",
      "Length: 67669068 (65M) [application/x-zip-compressed]\n",
      "Saving to: ‘WDI_csv.zip’\n",
      "\n",
      "WDI_csv.zip           3%[                    ]   2,06M   105KB/s    in 21s     \n",
      "\n",
      "2022-01-21 06:09:17 (103 KB/s) - Read error at byte 2162688/67669068 (Connection reset by peer). Retrying.\n",
      "\n",
      "--2022-01-21 06:09:18--  (try: 2)  https://databank.worldbank.org/data/download/WDI_csv.zip\n",
      "Connecting to databank.worldbank.org (databank.worldbank.org)|192.86.98.102|:443... connected.\n",
      "HTTP request sent, awaiting response... 206 Partial Content\n",
      "Length: 67669068 (65M), 65506380 (62M) remaining [application/x-zip-compressed]\n",
      "Saving to: ‘WDI_csv.zip’\n",
      "\n",
      "WDI_csv.zip          34%[=====>              ]  22,22M  92,2KB/s    eta 10m 49s^C\n"
     ]
    }
   ],
   "source": [
    "! wget https://databank.worldbank.org/data/download/WDI_csv.zip"
   ]
  },
  {
   "cell_type": "markdown",
   "id": "5659e8e5",
   "metadata": {},
   "source": [
    "#### Unzip"
   ]
  },
  {
   "cell_type": "code",
   "execution_count": 4,
   "id": "dff29841",
   "metadata": {},
   "outputs": [
    {
     "name": "stdout",
     "output_type": "stream",
     "text": [
      "Archive:  WDI_csv.zip\n",
      "  inflating: data/WDIData.csv        \n",
      "  inflating: data/WDICountry.csv     \n",
      "  inflating: data/WDISeries.csv      \n",
      "  inflating: data/WDICountry-Series.csv  \n",
      "  inflating: data/WDISeries-Time.csv  \n",
      "  inflating: data/WDIFootNote.csv    \n"
     ]
    }
   ],
   "source": [
    "!unzip WDI_csv.zip -d data"
   ]
  },
  {
   "cell_type": "code",
   "execution_count": 5,
   "id": "5bda7d0b",
   "metadata": {},
   "outputs": [
    {
     "name": "stdout",
     "output_type": "stream",
     "text": [
      "Collecting pandas\n",
      "  Using cached pandas-1.3.5-cp38-cp38-manylinux_2_17_x86_64.manylinux2014_x86_64.whl (11.5 MB)\n",
      "Collecting numpy>=1.17.3; platform_machine != \"aarch64\" and platform_machine != \"arm64\" and python_version < \"3.10\"\n",
      "  Downloading numpy-1.22.1-cp38-cp38-manylinux_2_17_x86_64.manylinux2014_x86_64.whl (16.8 MB)\n",
      "\u001b[K     |████████████████████████████████| 16.8 MB 4.9 MB/s eta 0:00:01\n",
      "\u001b[?25hCollecting pytz>=2017.3\n",
      "  Using cached pytz-2021.3-py2.py3-none-any.whl (503 kB)\n",
      "Requirement already satisfied: python-dateutil>=2.7.3 in ./venv/lib/python3.8/site-packages (from pandas) (2.8.2)\n",
      "Requirement already satisfied: six>=1.5 in ./venv/lib/python3.8/site-packages (from python-dateutil>=2.7.3->pandas) (1.16.0)\n",
      "Installing collected packages: numpy, pytz, pandas\n",
      "Successfully installed numpy-1.22.1 pandas-1.3.5 pytz-2021.3\n"
     ]
    }
   ],
   "source": [
    "# Install other libraries\n",
    "!pip install pandas"
   ]
  },
  {
   "cell_type": "code",
   "execution_count": 1,
   "id": "23cfc5b4",
   "metadata": {},
   "outputs": [],
   "source": [
    "# Import libraries\n",
    "import pandas as pd"
   ]
  },
  {
   "cell_type": "code",
   "execution_count": 2,
   "id": "f08cc682",
   "metadata": {},
   "outputs": [],
   "source": [
    "# Load dataframes\n",
    "df_data = pd.read_csv(\"data/WDIData.csv\")\n",
    "df_country = pd.read_csv(\"data/WDICountry.csv\")\n",
    "df_country_series = pd.read_csv(\"data/WDICountry-Series.csv\")\n",
    "df_WDIFootNote = pd.read_csv(\"data/WDIFootNote.csv\")\n",
    "df_series = pd.read_csv(\"data/WDISeries.csv\")\n",
    "df_series_time = pd.read_csv(\"data/WDISeries-Time.csv\")"
   ]
  },
  {
   "cell_type": "code",
   "execution_count": 3,
   "id": "08674883",
   "metadata": {},
   "outputs": [
    {
     "name": "stdout",
     "output_type": "stream",
     "text": [
      "<class 'pandas.core.frame.DataFrame'>\n",
      "RangeIndex: 383838 entries, 0 to 383837\n",
      "Data columns (total 66 columns):\n",
      " #   Column          Non-Null Count   Dtype  \n",
      "---  ------          --------------   -----  \n",
      " 0   Country Name    383838 non-null  object \n",
      " 1   Country Code    383838 non-null  object \n",
      " 2   Indicator Name  383838 non-null  object \n",
      " 3   Indicator Code  383838 non-null  object \n",
      " 4   1960            37379 non-null   float64\n",
      " 5   1961            42384 non-null   float64\n",
      " 6   1962            44643 non-null   float64\n",
      " 7   1963            44491 non-null   float64\n",
      " 8   1964            45044 non-null   float64\n",
      " 9   1965            47213 non-null   float64\n",
      " 10  1966            47245 non-null   float64\n",
      " 11  1967            48987 non-null   float64\n",
      " 12  1968            48565 non-null   float64\n",
      " 13  1969            50410 non-null   float64\n",
      " 14  1970            69132 non-null   float64\n",
      " 15  1971            76183 non-null   float64\n",
      " 16  1972            79304 non-null   float64\n",
      " 17  1973            78791 non-null   float64\n",
      " 18  1974            80286 non-null   float64\n",
      " 19  1975            83993 non-null   float64\n",
      " 20  1976            86295 non-null   float64\n",
      " 21  1977            90236 non-null   float64\n",
      " 22  1978            89837 non-null   float64\n",
      " 23  1979            90717 non-null   float64\n",
      " 24  1980            95643 non-null   float64\n",
      " 25  1981            97974 non-null   float64\n",
      " 26  1982            99737 non-null   float64\n",
      " 27  1983            99261 non-null   float64\n",
      " 28  1984            99998 non-null   float64\n",
      " 29  1985            101364 non-null  float64\n",
      " 30  1986            102156 non-null  float64\n",
      " 31  1987            103792 non-null  float64\n",
      " 32  1988            102254 non-null  float64\n",
      " 33  1989            103817 non-null  float64\n",
      " 34  1990            126976 non-null  float64\n",
      " 35  1991            134342 non-null  float64\n",
      " 36  1992            139441 non-null  float64\n",
      " 37  1993            139905 non-null  float64\n",
      " 38  1994            142194 non-null  float64\n",
      " 39  1995            149968 non-null  float64\n",
      " 40  1996            149801 non-null  float64\n",
      " 41  1997            152093 non-null  float64\n",
      " 42  1998            153352 non-null  float64\n",
      " 43  1999            158807 non-null  float64\n",
      " 44  2000            184641 non-null  float64\n",
      " 45  2001            178816 non-null  float64\n",
      " 46  2002            184282 non-null  float64\n",
      " 47  2003            184021 non-null  float64\n",
      " 48  2004            189384 non-null  float64\n",
      " 49  2005            200435 non-null  float64\n",
      " 50  2006            200776 non-null  float64\n",
      " 51  2007            206029 non-null  float64\n",
      " 52  2008            203926 non-null  float64\n",
      " 53  2009            205222 non-null  float64\n",
      " 54  2010            218710 non-null  float64\n",
      " 55  2011            211967 non-null  float64\n",
      " 56  2012            216450 non-null  float64\n",
      " 57  2013            210820 non-null  float64\n",
      " 58  2014            217996 non-null  float64\n",
      " 59  2015            213471 non-null  float64\n",
      " 60  2016            213075 non-null  float64\n",
      " 61  2017            209605 non-null  float64\n",
      " 62  2018            203509 non-null  float64\n",
      " 63  2019            176592 non-null  float64\n",
      " 64  2020            95112 non-null   float64\n",
      " 65  Unnamed: 65     0 non-null       float64\n",
      "dtypes: float64(62), object(4)\n",
      "memory usage: 193.3+ MB\n"
     ]
    }
   ],
   "source": [
    "df_data.info()"
   ]
  },
  {
   "cell_type": "code",
   "execution_count": 4,
   "id": "2153e834",
   "metadata": {},
   "outputs": [
    {
     "data": {
      "text/html": [
       "<div>\n",
       "<style scoped>\n",
       "    .dataframe tbody tr th:only-of-type {\n",
       "        vertical-align: middle;\n",
       "    }\n",
       "\n",
       "    .dataframe tbody tr th {\n",
       "        vertical-align: top;\n",
       "    }\n",
       "\n",
       "    .dataframe thead th {\n",
       "        text-align: right;\n",
       "    }\n",
       "</style>\n",
       "<table border=\"1\" class=\"dataframe\">\n",
       "  <thead>\n",
       "    <tr style=\"text-align: right;\">\n",
       "      <th></th>\n",
       "      <th>Country Name</th>\n",
       "      <th>Country Code</th>\n",
       "      <th>Indicator Name</th>\n",
       "      <th>Indicator Code</th>\n",
       "      <th>1960</th>\n",
       "      <th>1961</th>\n",
       "      <th>1962</th>\n",
       "      <th>1963</th>\n",
       "      <th>1964</th>\n",
       "      <th>1965</th>\n",
       "      <th>...</th>\n",
       "      <th>2012</th>\n",
       "      <th>2013</th>\n",
       "      <th>2014</th>\n",
       "      <th>2015</th>\n",
       "      <th>2016</th>\n",
       "      <th>2017</th>\n",
       "      <th>2018</th>\n",
       "      <th>2019</th>\n",
       "      <th>2020</th>\n",
       "      <th>Unnamed: 65</th>\n",
       "    </tr>\n",
       "  </thead>\n",
       "  <tbody>\n",
       "    <tr>\n",
       "      <th>0</th>\n",
       "      <td>Africa Eastern and Southern</td>\n",
       "      <td>AFE</td>\n",
       "      <td>Access to clean fuels and technologies for coo...</td>\n",
       "      <td>EG.CFT.ACCS.ZS</td>\n",
       "      <td>NaN</td>\n",
       "      <td>NaN</td>\n",
       "      <td>NaN</td>\n",
       "      <td>NaN</td>\n",
       "      <td>NaN</td>\n",
       "      <td>NaN</td>\n",
       "      <td>...</td>\n",
       "      <td>16.320475</td>\n",
       "      <td>16.643243</td>\n",
       "      <td>16.994695</td>\n",
       "      <td>17.313168</td>\n",
       "      <td>17.604950</td>\n",
       "      <td>NaN</td>\n",
       "      <td>NaN</td>\n",
       "      <td>NaN</td>\n",
       "      <td>NaN</td>\n",
       "      <td>NaN</td>\n",
       "    </tr>\n",
       "    <tr>\n",
       "      <th>1</th>\n",
       "      <td>Africa Eastern and Southern</td>\n",
       "      <td>AFE</td>\n",
       "      <td>Access to electricity (% of population)</td>\n",
       "      <td>EG.ELC.ACCS.ZS</td>\n",
       "      <td>NaN</td>\n",
       "      <td>NaN</td>\n",
       "      <td>NaN</td>\n",
       "      <td>NaN</td>\n",
       "      <td>NaN</td>\n",
       "      <td>NaN</td>\n",
       "      <td>...</td>\n",
       "      <td>32.224027</td>\n",
       "      <td>32.046478</td>\n",
       "      <td>31.323579</td>\n",
       "      <td>33.312163</td>\n",
       "      <td>38.380433</td>\n",
       "      <td>39.754201</td>\n",
       "      <td>42.168241</td>\n",
       "      <td>43.640661</td>\n",
       "      <td>NaN</td>\n",
       "      <td>NaN</td>\n",
       "    </tr>\n",
       "    <tr>\n",
       "      <th>2</th>\n",
       "      <td>Africa Eastern and Southern</td>\n",
       "      <td>AFE</td>\n",
       "      <td>Access to electricity, rural (% of rural popul...</td>\n",
       "      <td>EG.ELC.ACCS.RU.ZS</td>\n",
       "      <td>NaN</td>\n",
       "      <td>NaN</td>\n",
       "      <td>NaN</td>\n",
       "      <td>NaN</td>\n",
       "      <td>NaN</td>\n",
       "      <td>NaN</td>\n",
       "      <td>...</td>\n",
       "      <td>20.525353</td>\n",
       "      <td>19.461383</td>\n",
       "      <td>17.790698</td>\n",
       "      <td>16.553470</td>\n",
       "      <td>23.907897</td>\n",
       "      <td>24.624725</td>\n",
       "      <td>26.813900</td>\n",
       "      <td>28.841150</td>\n",
       "      <td>NaN</td>\n",
       "      <td>NaN</td>\n",
       "    </tr>\n",
       "    <tr>\n",
       "      <th>3</th>\n",
       "      <td>Africa Eastern and Southern</td>\n",
       "      <td>AFE</td>\n",
       "      <td>Access to electricity, urban (% of urban popul...</td>\n",
       "      <td>EG.ELC.ACCS.UR.ZS</td>\n",
       "      <td>NaN</td>\n",
       "      <td>NaN</td>\n",
       "      <td>NaN</td>\n",
       "      <td>NaN</td>\n",
       "      <td>NaN</td>\n",
       "      <td>NaN</td>\n",
       "      <td>...</td>\n",
       "      <td>66.303599</td>\n",
       "      <td>66.496010</td>\n",
       "      <td>65.828988</td>\n",
       "      <td>66.926692</td>\n",
       "      <td>68.722184</td>\n",
       "      <td>71.085418</td>\n",
       "      <td>71.994933</td>\n",
       "      <td>73.589886</td>\n",
       "      <td>NaN</td>\n",
       "      <td>NaN</td>\n",
       "    </tr>\n",
       "    <tr>\n",
       "      <th>4</th>\n",
       "      <td>Africa Eastern and Southern</td>\n",
       "      <td>AFE</td>\n",
       "      <td>Account ownership at a financial institution o...</td>\n",
       "      <td>FX.OWN.TOTL.ZS</td>\n",
       "      <td>NaN</td>\n",
       "      <td>NaN</td>\n",
       "      <td>NaN</td>\n",
       "      <td>NaN</td>\n",
       "      <td>NaN</td>\n",
       "      <td>NaN</td>\n",
       "      <td>...</td>\n",
       "      <td>NaN</td>\n",
       "      <td>NaN</td>\n",
       "      <td>NaN</td>\n",
       "      <td>NaN</td>\n",
       "      <td>NaN</td>\n",
       "      <td>NaN</td>\n",
       "      <td>NaN</td>\n",
       "      <td>NaN</td>\n",
       "      <td>NaN</td>\n",
       "      <td>NaN</td>\n",
       "    </tr>\n",
       "  </tbody>\n",
       "</table>\n",
       "<p>5 rows × 66 columns</p>\n",
       "</div>"
      ],
      "text/plain": [
       "                  Country Name Country Code  \\\n",
       "0  Africa Eastern and Southern          AFE   \n",
       "1  Africa Eastern and Southern          AFE   \n",
       "2  Africa Eastern and Southern          AFE   \n",
       "3  Africa Eastern and Southern          AFE   \n",
       "4  Africa Eastern and Southern          AFE   \n",
       "\n",
       "                                      Indicator Name     Indicator Code  1960  \\\n",
       "0  Access to clean fuels and technologies for coo...     EG.CFT.ACCS.ZS   NaN   \n",
       "1            Access to electricity (% of population)     EG.ELC.ACCS.ZS   NaN   \n",
       "2  Access to electricity, rural (% of rural popul...  EG.ELC.ACCS.RU.ZS   NaN   \n",
       "3  Access to electricity, urban (% of urban popul...  EG.ELC.ACCS.UR.ZS   NaN   \n",
       "4  Account ownership at a financial institution o...     FX.OWN.TOTL.ZS   NaN   \n",
       "\n",
       "   1961  1962  1963  1964  1965  ...       2012       2013       2014  \\\n",
       "0   NaN   NaN   NaN   NaN   NaN  ...  16.320475  16.643243  16.994695   \n",
       "1   NaN   NaN   NaN   NaN   NaN  ...  32.224027  32.046478  31.323579   \n",
       "2   NaN   NaN   NaN   NaN   NaN  ...  20.525353  19.461383  17.790698   \n",
       "3   NaN   NaN   NaN   NaN   NaN  ...  66.303599  66.496010  65.828988   \n",
       "4   NaN   NaN   NaN   NaN   NaN  ...        NaN        NaN        NaN   \n",
       "\n",
       "        2015       2016       2017       2018       2019  2020  Unnamed: 65  \n",
       "0  17.313168  17.604950        NaN        NaN        NaN   NaN          NaN  \n",
       "1  33.312163  38.380433  39.754201  42.168241  43.640661   NaN          NaN  \n",
       "2  16.553470  23.907897  24.624725  26.813900  28.841150   NaN          NaN  \n",
       "3  66.926692  68.722184  71.085418  71.994933  73.589886   NaN          NaN  \n",
       "4        NaN        NaN        NaN        NaN        NaN   NaN          NaN  \n",
       "\n",
       "[5 rows x 66 columns]"
      ]
     },
     "execution_count": 4,
     "metadata": {},
     "output_type": "execute_result"
    }
   ],
   "source": [
    "df_data.head()"
   ]
  },
  {
   "cell_type": "code",
   "execution_count": 5,
   "id": "3009cb6b",
   "metadata": {},
   "outputs": [
    {
     "name": "stdout",
     "output_type": "stream",
     "text": [
      "Number of unique countries 266\n",
      "Number of unique indicators 1443\n"
     ]
    }
   ],
   "source": [
    "print(f\"Number of unique countries {len(df_data['Country Name'].unique())}\")\n",
    "\n",
    "indicators = df_data[\"Indicator Name\"].unique()\n",
    "print(f\"Number of unique indicators {len(indicators)}\")\n",
    "indicators.sort()\n"
   ]
  },
  {
   "cell_type": "code",
   "execution_count": 8,
   "id": "7850b015",
   "metadata": {},
   "outputs": [
    {
     "name": "stdout",
     "output_type": "stream",
     "text": [
      "Number of Nan values 15555269\n",
      "Number of rows with all empty values: 360846\n"
     ]
    }
   ],
   "source": [
    "df_data_year_cols = df_data.loc[:, ~df_data.columns.isin(['Country Name','Country Code', 'Indicator Name', 'Indicator Code', \"Unnamed: 65\"])]\n",
    "print(f\"Number of Nan values {df_data_year_cols.isna().sum().sum()}\")\n",
    "print(f\"Number of rows with all empty values: {df_data_year_cols[df_data_year_cols.isna().any(axis=1)].shape[0]}\")"
   ]
  },
  {
   "cell_type": "code",
   "execution_count": 27,
   "id": "e06a0b8e",
   "metadata": {},
   "outputs": [
    {
     "name": "stdout",
     "output_type": "stream",
     "text": [
      "(383838, 3)\n",
      "(1, 3)\n"
     ]
    }
   ],
   "source": [
    "years = [2020]\n",
    "years = [str(y) for y in years]\n",
    "countries = [\"Africa Eastern and Southern\"]\n",
    "indicator = \"Coverage of social insurance programs (% of population)\"\n",
    "\n",
    "rows = (df_data.loc[:, df_data.columns.isin(['Country Name', 'Indicator Name'] + years)])\n",
    "print(rows.shape)\n",
    "rows = rows[(rows[\"Country Name\"].isin(countries)) & (rows[\"Indicator Name\"] == indicator)]\n",
    "rows.head()\n",
    "print(rows.shape)\n"
   ]
  }
 ],
 "metadata": {
  "kernelspec": {
   "display_name": "Python 3 (ipykernel)",
   "language": "python",
   "name": "python3"
  },
  "language_info": {
   "codemirror_mode": {
    "name": "ipython",
    "version": 3
   },
   "file_extension": ".py",
   "mimetype": "text/x-python",
   "name": "python",
   "nbconvert_exporter": "python",
   "pygments_lexer": "ipython3",
   "version": "3.8.10"
  }
 },
 "nbformat": 4,
 "nbformat_minor": 5
}
